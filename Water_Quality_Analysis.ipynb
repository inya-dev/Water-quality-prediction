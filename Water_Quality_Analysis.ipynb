{
 "cells": [
  {
   "cell_type": "code",
   "execution_count": null,
   "id": "ba8e7661",
   "metadata": {},
   "outputs": [],
   "source": [
    "import numpy as np \n",
    "import pandas as pd \n",
    "import matplotlib.pyplot as plt\n",
    "plt.style.use('fivethirtyeight')\n",
    "plt.style.use('dark_background')\n",
    "import seaborn as sns\n",
    "color = sns.color_palette()\n",
    "from matplotlib.colors import ListedColormap\n",
    "from scipy.stats import norm, boxcox\n",
    "from sklearn.preprocessing import StandardScaler\n"
   ]
  },
  {
   "cell_type": "markdown",
   "id": "e2ea6023",
   "metadata": {},
   "source": [
    "### Importing The Dataset"
   ]
  },
  {
   "cell_type": "code",
   "execution_count": null,
   "id": "b9cdd2c9",
   "metadata": {},
   "outputs": [],
   "source": [
    "path = \"water_potability.csv\"\n",
    "df = pd.read_csv(path)"
   ]
  },
  {
   "cell_type": "markdown",
   "id": "cd48c128",
   "metadata": {},
   "source": [
    "## Initial Analysis"
   ]
  },
  {
   "cell_type": "code",
   "execution_count": null,
   "id": "519d27cb",
   "metadata": {},
   "outputs": [],
   "source": [
    "df.shape"
   ]
  },
  {
   "cell_type": "code",
   "execution_count": null,
   "id": "742a7046",
   "metadata": {},
   "outputs": [],
   "source": [
    "df.info()"
   ]
  },
  {
   "cell_type": "markdown",
   "id": "02dea47b",
   "metadata": {},
   "source": [
    "Except Target feature, other features are float and continueous value. we can convert the Portability into Categoring feature"
   ]
  },
  {
   "cell_type": "code",
   "execution_count": null,
   "id": "c914ba8b",
   "metadata": {},
   "outputs": [],
   "source": [
    "df.nunique()"
   ]
  },
  {
   "cell_type": "code",
   "execution_count": null,
   "id": "8afaf51a",
   "metadata": {},
   "outputs": [],
   "source": [
    "df['Potability']=df['Potability'].astype('category')"
   ]
  },
  {
   "cell_type": "markdown",
   "id": "0edc2cf5",
   "metadata": {},
   "source": [
    "### Check for missing values"
   ]
  },
  {
   "cell_type": "code",
   "execution_count": null,
   "id": "274cde05",
   "metadata": {},
   "outputs": [],
   "source": [
    "plt.title('Missing Values Per Feature')\n",
    "nans = df.isna().sum().sort_values(ascending=False).to_frame()\n",
    "sns.heatmap(nans,annot=True,fmt='d',cmap='vlag')"
   ]
  },
  {
   "cell_type": "code",
   "execution_count": null,
   "id": "9058e3e8",
   "metadata": {},
   "outputs": [],
   "source": [
    "df[df['Sulfate'].isnull()]"
   ]
  },
  {
   "cell_type": "code",
   "execution_count": null,
   "id": "2905553a",
   "metadata": {},
   "outputs": [],
   "source": [
    "df[df['ph'].isnull()]"
   ]
  },
  {
   "cell_type": "code",
   "execution_count": null,
   "id": "a8f476ad",
   "metadata": {},
   "outputs": [],
   "source": [
    "df[df['Trihalomethanes'].isnull()]"
   ]
  },
  {
   "cell_type": "markdown",
   "id": "ebc0ec05",
   "metadata": {},
   "source": [
    "Since the missing values are on both classess (Potability 1 & 0), we can replace it with population mean. so, we will replace the Nan values bases on sample mean from both classes.\n"
   ]
  },
  {
   "cell_type": "markdown",
   "id": "f9506d62",
   "metadata": {},
   "source": [
    "<b> Imputing the missing values with the mean</b>"
   ]
  },
  {
   "cell_type": "code",
   "execution_count": null,
   "id": "8aaaee44",
   "metadata": {},
   "outputs": [],
   "source": [
    "#################################### Imputing 'ph' value #####################################\n",
    "\n",
    "phMean_0 = df[df['Potability'] == 0]['ph'].mean(skipna=True)\n",
    "df.loc[(df['Potability'] == 0) & (df['ph'].isna()), 'ph'] = phMean_0\n",
    "phMean_1 = df[df['Potability'] == 1]['ph'].mean(skipna=True)\n",
    "df.loc[(df['Potability'] == 1) & (df['ph'].isna()), 'ph'] = phMean_1\n",
    "\n",
    "##################################### Imputing 'Sulfate' value #####################################\n",
    "\n",
    "SulfateMean_0 = df[df['Potability'] == 0]['Sulfate'].mean(skipna=True)\n",
    "df.loc[(df['Potability'] == 0) & (df['Sulfate'].isna()), 'Sulfate'] = SulfateMean_0\n",
    "SulfateMean_1 = df[df['Potability'] == 1]['Sulfate'].mean(skipna=True)\n",
    "df.loc[(df['Potability'] == 1) & (df['Sulfate'].isna()), 'Sulfate'] = SulfateMean_1\n",
    "\n",
    "################################ Imputing 'Trihalomethanes' value #####################################\n",
    "\n",
    "TrihalomethanesMean_0 = df[df['Potability'] == 0]['Trihalomethanes'].mean(skipna=True)\n",
    "df.loc[(df['Potability'] == 0) & (df['Trihalomethanes'].isna()), 'Trihalomethanes'] = TrihalomethanesMean_0\n",
    "TrihalomethanesMean_1 = df[df['Potability'] == 1]['Trihalomethanes'].mean(skipna=True)\n",
    "df.loc[(df['Potability'] == 1) & (df['Trihalomethanes'].isna()), 'Trihalomethanes'] = TrihalomethanesMean_1"
   ]
  },
  {
   "cell_type": "code",
   "execution_count": null,
   "id": "5cfe039d",
   "metadata": {},
   "outputs": [],
   "source": [
    "print('Checking to see any more missing data \\n')\n",
    "df.isna().sum()"
   ]
  }
 ],
 "metadata": {
  "kernelspec": {
   "display_name": "Python 3",
   "language": "python",
   "name": "python3"
  },
  "language_info": {
   "codemirror_mode": {
    "name": "ipython",
    "version": 3
   },
   "file_extension": ".py",
   "mimetype": "text/x-python",
   "name": "python",
   "nbconvert_exporter": "python",
   "pygments_lexer": "ipython3",
   "version": "3.11.5"
  }
 },
 "nbformat": 4,
 "nbformat_minor": 5
}
